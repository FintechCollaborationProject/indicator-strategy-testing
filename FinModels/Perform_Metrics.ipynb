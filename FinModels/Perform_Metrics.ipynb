{
 "cells": [
  {
   "cell_type": "code",
   "execution_count": 3,
   "metadata": {},
   "outputs": [],
   "source": [
    "class ReturnAnalysis:\n",
    "    def __init__(self, returns):\n",
    "        self.returns = returns\n",
    "        self.num_years = len(returns)\n",
    "        self.avg_return = np.mean(returns)\n",
    "        self.std_deviation = np.std(returns)\n",
    "        self.percentile_25 = np.percentile(returns, 25)\n",
    "        self.percentile_75 = np.percentile(returns, 75)\n",
    "        self.min_return = np.min(returns)\n",
    "        self.max_return = np.max(returns)\n",
    "    \n",
    "    def get_summary(self):\n",
    "        return {\n",
    "            \"Number of Years\": self.num_years,\n",
    "            \"Average Return Rate\": self.avg_return,\n",
    "            \"Standard Deviation\": self.std_deviation,\n",
    "            \"25th Percentile\": self.percentile_25,\n",
    "            \"75th Percentile\": self.percentile_75,\n",
    "            \"Minimum Return Rate\": self.min_return,\n",
    "            \"Maximum Return Rate\": self.max_return\n",
    "        }\n",
    "\n",
    "class TGR:\n",
    "    def __init__(self, returns):\n",
    "        self.returns = returns\n",
    "    \n",
    "    def calculate(self):\n",
    "        total_growth = np.prod([1 + r / 100 for r in self.returns]) - 1\n",
    "        return total_growth * 100  # Convert to percentage\n",
    "\n",
    "class CAGR:\n",
    "    def __init__(self, returns):\n",
    "        self.returns = returns\n",
    "        self.num_years = len(returns)\n",
    "    \n",
    "    def calculate(self):\n",
    "        final_value = np.prod([1 + r / 100 for r in self.returns])\n",
    "        cagr = (final_value ** (1 / self.num_years) - 1) * 100  # Convert to percentage\n",
    "        return cagr\n"
   ]
  },
  {
   "cell_type": "code",
   "execution_count": 4,
   "metadata": {},
   "outputs": [
    {
     "name": "stdout",
     "output_type": "stream",
     "text": [
      "{'Number of Years': 10, 'Average Return Rate': np.float64(4.949999999999998), 'Standard Deviation': np.float64(30.432655158562817), '25th Percentile': np.float64(-17.2), '75th Percentile': np.float64(32.275), 'Minimum Return Rate': np.float64(-38.1), 'Maximum Return Rate': np.float64(48.8)}\n",
      "Total Growth Rate (TGR): 3.173669118761535%\n",
      "Compound Annual Growth Rate (CAGR): 0.3129234896141142%\n"
     ]
    }
   ],
   "source": [
    "# Example usage:\n",
    "returns = [-20.0, -38.1, 1.9, 48.8, -2.7, 42.5, 30.1, -37.2, 33.0, -8.8]  # Sample data\n",
    "\n",
    "# Analyzing return statistics\n",
    "analysis = ReturnAnalysis(returns)\n",
    "print(analysis.get_summary())\n",
    "\n",
    "# Calculating TGR\n",
    "tgr = TGR(returns)\n",
    "print(f\"Total Growth Rate (TGR): {tgr.calculate()}%\")\n",
    "\n",
    "# Calculating CAGR\n",
    "cagr = CAGR(returns)\n",
    "print(f\"Compound Annual Growth Rate (CAGR): {cagr.calculate()}%\")"
   ]
  }
 ],
 "metadata": {
  "kernelspec": {
   "display_name": "ML",
   "language": "python",
   "name": "python3"
  },
  "language_info": {
   "codemirror_mode": {
    "name": "ipython",
    "version": 3
   },
   "file_extension": ".py",
   "mimetype": "text/x-python",
   "name": "python",
   "nbconvert_exporter": "python",
   "pygments_lexer": "ipython3",
   "version": "3.12.4"
  }
 },
 "nbformat": 4,
 "nbformat_minor": 2
}
