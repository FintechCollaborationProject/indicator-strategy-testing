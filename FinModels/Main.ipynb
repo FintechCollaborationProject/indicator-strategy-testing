{
 "cells": [
  {
   "cell_type": "code",
   "execution_count": null,
   "metadata": {},
   "outputs": [],
   "source": [
    "from data import YahooFinanceData\n",
    "from indicators import BollingerBands, EMA, KeltnerChannel, MACD, RSI, VortexIndicator, ADX\n",
    "from strategies import CombinedIndicatorStrategy\n",
    "from backtesting import Backtest\n",
    "\n",
    "def main():\n",
    "    # Example usage\n",
    "    ticker = \"AAPL\"\n",
    "    start_date = \"2020-01-01\"\n",
    "    end_date = \"2021-01-01\"\n",
    "    interval = \"1d\"\n",
    "\n",
    "    yahoo_data = YahooFinanceData(ticker, start_date, end_date, interval)\n",
    "    yahoo_data.fetch_data()\n",
    "    data = yahoo_data.get_data()\n",
    "\n",
    "    if data is not None:\n",
    "        # Initialize your indicators with the fetched data\n",
    "        vi = VortexIndicator(data)\n",
    "        ema = EMA(data, short_window=5, long_window=10)\n",
    "        rsi = RSI(data)\n",
    "\n",
    "        # Combine indicators into a strategy\n",
    "        strategy = CombinedIndicatorStrategy([vi, ema, rsi])\n",
    "        \n",
    "        # Set initial balance\n",
    "        initial_balance = 10000  # Example balance; this can be changed\n",
    "\n",
    "        # Run the backtest\n",
    "        backtest = Backtest(strategy, data, initial_balance)\n",
    "        backtest_history = backtest.execute()\n",
    "        print(backtest_history)\n",
    "\n",
    "if __name__ == \"__main__\":\n",
    "    main()\n"
   ]
  }
 ],
 "metadata": {
  "language_info": {
   "name": "python"
  }
 },
 "nbformat": 4,
 "nbformat_minor": 2
}
