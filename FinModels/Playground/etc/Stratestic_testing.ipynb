{
 "cells": [
  {
   "cell_type": "code",
   "execution_count": 18,
   "metadata": {},
   "outputs": [
    {
     "name": "stderr",
     "output_type": "stream",
     "text": [
      "[*********************100%%**********************]  1 of 1 completed"
     ]
    },
    {
     "name": "stdout",
     "output_type": "stream",
     "text": [
      "$APPL: possibly delisted; No price data found  (1d 2021-01-01 -> 2023-01-01)\n",
      "\n",
      "1 Failed download:\n",
      "['APPL']: YFPricesMissingError('$%ticker%: possibly delisted; No price data found  (1d 2021-01-01 -> 2023-01-01)')\n"
     ]
    },
    {
     "name": "stderr",
     "output_type": "stream",
     "text": [
      "\n"
     ]
    },
    {
     "name": "stdout",
     "output_type": "stream",
     "text": [
      "\n",
      "************************************************************\n",
      "                    BACKTESTING RESULTS                     \n",
      "************************************************************\n",
      "\n",
      "                          Overview                          \n",
      "------------------------------------------------------------\n",
      "Total Duration                          4 years and 39 weeks\n",
      "Start Date                               2018-05-16 15:00:00\n",
      "End Date                                 2023-02-13 01:00:00\n",
      "Trading Costs [%]                                        0.0\n",
      "Exposure Time [%]                                      100.0\n",
      "Leverage [x]                                               1\n",
      "Equity - Initial [USDT]                                 1000\n",
      "Equity - Final [USDT]                               16103.49\n",
      "Equity - Peak [USDT]                                28312.95\n",
      "------------------------------------------------------------\n",
      "\n",
      "                          Returns                           \n",
      "------------------------------------------------------------\n",
      "Total Return [%]                                     1510.35\n",
      "Annualized Return [%]                                  58.91\n",
      "Annualized Volatility [%]                              71.02\n",
      "Buy & Hold Return [%]                                 163.16\n",
      "------------------------------------------------------------\n",
      "\n",
      "                         Drawdowns                          \n",
      "------------------------------------------------------------\n",
      "Max Drawdown [%]                                      -56.62\n",
      "Avg Drawdown [%]                                       -5.44\n",
      "Max Drawdown Duration                    1 year and 22 weeks\n",
      "Avg Drawdown Duration                      1 week and 2 days\n",
      "------------------------------------------------------------\n",
      "\n",
      "                           Trades                           \n",
      "------------------------------------------------------------\n",
      "Total Trades                                            3136\n",
      "Win Rate [%]                                           34.92\n",
      "Best Trade [%]                                         45.61\n",
      "Worst Trade [%]                                       -12.84\n",
      "Avg Trade [%]                                           0.09\n",
      "Max Trade Duration                       2 days and 14 hours\n",
      "Avg Trade Duration                   13 hours and 15 minutes\n",
      "Expectancy [%]                                          1.72\n",
      "------------------------------------------------------------\n",
      "\n",
      "                           Ratios                           \n",
      "------------------------------------------------------------\n",
      "Sharpe Ratio                                            0.82\n",
      "Sortino Ratio                                           0.72\n",
      "Calmar Ratio                                            1.04\n",
      "Profit Factor                                           1.01\n",
      "System Quality Number                                   0.14\n",
      "------------------------------------------------------------\n",
      "\n",
      "************************************************************\n"
     ]
    }
   ],
   "source": [
    "import yfinance as yf\n",
    "from stratestic.backtesting import VectorizedBacktester\n",
    "from stratestic.strategies import MovingAverageConvergenceDivergence\n",
    "\n",
    "# Define your symbol, trading costs, and moving average parameters\n",
    "symbol = \"APPL\"  # Use the Yahoo Finance ticker for Bitcoin in USD\n",
    "trading_costs = 0.1 / 100  # Convert to decimal form for calculations\n",
    "\n",
    "# Initialize your strategy\n",
    "macd = MovingAverageConvergenceDivergence(26, 12, 9)\n",
    "\n",
    "# Download historical data from Yahoo Finance\n",
    "data = yf.download(symbol, start=\"2021-01-01\", end=\"2023-01-01\")\n",
    "\n",
    "# Initialize the VectorizedBacktester without data\n",
    "vect = VectorizedBacktester(\n",
    "    macd,\n",
    "    symbol,\n",
    "    amount=1000,\n",
    "    trading_costs=trading_costs\n",
    ")\n",
    "\n",
    "# Load data into the backtester\n",
    "vect.data = data  # Set the data attribute directly\n",
    "vect.load_data()  # Load the data for backtesting\n",
    "vect.run()  # Runs the backtest and shows the results\n"
   ]
  },
  {
   "cell_type": "code",
   "execution_count": 4,
   "metadata": {},
   "outputs": [
    {
     "name": "stdout",
     "output_type": "stream",
     "text": [
      "['BollingerBands', 'MachineLearning', 'Momentum', 'MovingAverage', 'MovingAverageConvergenceDivergence', 'MovingAverageCrossover', '__builtins__', '__cached__', '__doc__', '__file__', '__loader__', '__name__', '__package__', '__path__', '__spec__', '_mixin', 'machine_learning', 'mean_reversion', 'moving_average', 'properties', 'trend']\n"
     ]
    }
   ],
   "source": [
    "import stratestic.strategies\n",
    "print(dir(stratestic.strategies))"
   ]
  },
  {
   "cell_type": "code",
   "execution_count": null,
   "metadata": {},
   "outputs": [],
   "source": []
  },
  {
   "cell_type": "markdown",
   "metadata": {},
   "source": [
    " I broadly classified into two categories. The first category comprises indicators that can function as standalone buy or sell signals, predominantly generated when the closing price crosses above or below a particular indicator, or when two signals from the same indicator intersect. The second category includes auxiliary indicators, which assist in determining the reliability of the signals generated by the first category of indicators. \n",
    "\n",
    "BB (Bollinger Bands)\n",
    "KC (Keltner Channel)\n",
    "VI (Vortex Indicator)\n",
    "ADX (Average Directional Index)\n",
    "RSI (Relative Strength Index)\n",
    "\n",
    "\n",
    "\n",
    "#Cross\n",
    "Single_L: BB, KC, VI\n",
    "\n",
    "#Cross_aux\n",
    "Double_L: BB_ADX, BB_BB, BB_RSI\n",
    "\n",
    "\n",
    "#Cross_aux_aux\n",
    "Thriple_L: BB_ADX_BB, BB_ADX_RSI, BB_BB_RSI"
   ]
  }
 ],
 "metadata": {
  "kernelspec": {
   "display_name": "Downgrade",
   "language": "python",
   "name": "python3"
  },
  "language_info": {
   "codemirror_mode": {
    "name": "ipython",
    "version": 3
   },
   "file_extension": ".py",
   "mimetype": "text/x-python",
   "name": "python",
   "nbconvert_exporter": "python",
   "pygments_lexer": "ipython3",
   "version": "3.9.19"
  }
 },
 "nbformat": 4,
 "nbformat_minor": 2
}
